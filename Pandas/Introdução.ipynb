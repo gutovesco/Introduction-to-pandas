{
 "cells": [
  {
   "cell_type": "code",
   "execution_count": 1,
   "metadata": {},
   "outputs": [],
   "source": [
    "bb = 2"
   ]
  },
  {
   "cell_type": "markdown",
   "metadata": {},
   "source": [
    "# Informações\n",
    "\n",
    "- Markdown: usado apenas para fazer comentários\n",
    "- Code: usado para codificar\n",
    "- Edit mode: Lápis no lado superior direito, a lateral da célula fica com a cor verde\n",
    "- Command mode: lateral da célula fica azul\n",
    "\n",
    "-------------------------------------------------------------------------------------------------------------------------------\n",
    "\n",
    "Panda = panel data, dados multi-dimensionais juntados ao longo do tempo, é baseado em numpy(a biblioteca base para computação cientifica em python), ambos sao parecidos mas panda tem mais funcionalidades. Pandas opera em forma de tabelas (Rows e Collumns), portanto é usado para análise de dados 2D. Com o pandas é possível filtrar dados de uma base de dados.\n",
    "\n",
    "Exemplo 1 - Single Condition: filt = bikes['tripduration'] > 5000\n",
    "                              bikes[filt].head()\n",
    "\n",
    "*Filtra as motocicletas que demoram mais de 5000 na viagem\n",
    "\n",
    "-------------------------------------------------------------------------------------------------------------------------------\n",
    "\n",
    "Exemplo 2 - Multiple Conditions: filt1 = bikes['tripduration'] > 5000\n",
    "                                 filt2 = bikes['gender'] == 'Male'\n",
    "                                 filt = filt1 & filt2\n",
    "                                 bikes[filt].head()\n",
    "\n",
    "*Filtra as motocicletas que demoram mais de 5000 na viagem E o gênero masculino (É possível adicionar '|' no lugar de '&' para utilizar OR ao invés de AND)\n",
    "\n",
    "-------------------------------------------------------------------------------------------------------------------------------\n",
    "\n",
    "Exemplo 3 - Dados Agregados\n",
    "\n",
    "\n",
    "*Retorna um único valor quando dado uma sequência de valores\n",
    "\n",
    "-------------------------------------------------------------------------------------------------------------------------------\n",
    "\n",
    "Exemplo 4 - Dados não Agregados\n",
    "\n",
    "\n",
    "*Não retornam apenas um único valor\n",
    "\n",
    "-------------------------------------------------------------------------------------------------------------------------------"
   ]
  },
  {
   "cell_type": "code",
   "execution_count": 3,
   "metadata": {
    "scrolled": true
   },
   "outputs": [
    {
     "data": {
      "text/plain": [
       "15.0"
      ]
     },
     "execution_count": 3,
     "metadata": {},
     "output_type": "execute_result"
    }
   ],
   "source": [
    "a = 6\n",
    "b = 2\n",
    "a * b + a / b\n",
    "\n",
    "#para ter o output não deve-ser falar que uma var recebe um valor (ex: c = a * b)"
   ]
  },
  {
   "cell_type": "code",
   "execution_count": 4,
   "metadata": {},
   "outputs": [],
   "source": [
    "a = 2\n",
    "b = 3\n",
    "c = a + b #o output nao funciona "
   ]
  },
  {
   "cell_type": "code",
   "execution_count": 5,
   "metadata": {},
   "outputs": [
    {
     "data": {
      "text/plain": [
       "5"
      ]
     },
     "execution_count": 5,
     "metadata": {},
     "output_type": "execute_result"
    }
   ],
   "source": [
    "c #output funcionando com os valores anteriores"
   ]
  },
  {
   "cell_type": "markdown",
   "metadata": {},
   "source": [
    "# Keyboard Shortcuts\n",
    "\n",
    "- ESC: Comandos\n",
    "- B: Cria uma célula na linha de baixo\n",
    "- A: Cria uma célula na linha de cima\n",
    "- DD: Deleta a célula\n"
   ]
  },
  {
   "cell_type": "markdown",
   "metadata": {},
   "source": [
    "# DataFrame And Series\n",
    "\n",
    "São os dois principais objetos para guardar dados\n",
    "\n",
    "- DataFrame: 2D, possui Rows e Columns\n",
    "- Series: 1D, contem uma coluna "
   ]
  },
  {
   "cell_type": "code",
   "execution_count": null,
   "metadata": {},
   "outputs": [],
   "source": [
    "import pandas as pd\n",
    "\n",
    "#importa o pandas"
   ]
  },
  {
   "cell_type": "code",
   "execution_count": null,
   "metadata": {},
   "outputs": [],
   "source": [
    "bikes = pd.read_csv('../data/bikes.csv')\n",
    "\n",
    "#uma forma de ler certos arquivos de texto,o formato precisa estar "
   ]
  }
 ],
 "metadata": {
  "kernelspec": {
   "display_name": "Python 3",
   "language": "python",
   "name": "python3"
  },
  "language_info": {
   "codemirror_mode": {
    "name": "ipython",
    "version": 3
   },
   "file_extension": ".py",
   "mimetype": "text/x-python",
   "name": "python",
   "nbconvert_exporter": "python",
   "pygments_lexer": "ipython3",
   "version": "3.7.4"
  }
 },
 "nbformat": 4,
 "nbformat_minor": 2
}
